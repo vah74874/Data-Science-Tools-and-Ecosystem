{
 "cells": [
  {
   "cell_type": "markdown",
   "id": "e84434da-dfa6-438f-97e9-946bb87b1498",
   "metadata": {},
   "source": [
    "# Data Science tools and Ecosystem"
   ]
  },
  {
   "cell_type": "markdown",
   "id": "fbd0fc95-984e-430b-98b5-59973855d3d8",
   "metadata": {},
   "source": [
    "In this notebook, Data Science tools and Ecosystem are summarized"
   ]
  },
  {
   "cell_type": "markdown",
   "id": "03a065c5-4390-40af-bcba-d89d4daa68de",
   "metadata": {},
   "source": [
    " **Objectives**\n",
    "- Popular Languages in Data Science\n",
    "- Commonly used libraries\n",
    "- Few arithmetic expressions in python\n"
   ]
  },
  {
   "cell_type": "markdown",
   "id": "bb2d872a-d50c-4e58-926b-34e7a0db69c7",
   "metadata": {},
   "source": [
    "Some of the popular languages that Data Scientists use are:\n"
   ]
  },
  {
   "cell_type": "markdown",
   "id": "7d3ccc20-1927-4997-bd60-c25856c994b2",
   "metadata": {},
   "source": [
    "1. R\n",
    "2. Python\n",
    "3. Java"
   ]
  },
  {
   "cell_type": "markdown",
   "id": "7bb1e381-ddcf-4bc0-8123-d596cfabf607",
   "metadata": {},
   "source": [
    "Some of the commonly used libraries used by Data Scientists include:"
   ]
  },
  {
   "cell_type": "markdown",
   "id": "fc759aa0-35de-4129-9edd-3dd6861f9f36",
   "metadata": {},
   "source": [
    "1. NumPy\n",
    "2. Matplotlib\n",
    "3. TenserFlow\n",
    "4. SciPy"
   ]
  },
  {
   "cell_type": "markdown",
   "id": "4ed967ba-2810-4fe4-86b0-1cee2b397c20",
   "metadata": {},
   "source": [
    "| Data Science Tools|\n",
    "| -------------------|\n",
    "| ApacheSpark|\n",
    "| Apache Hadoop|\n",
    "| Apache Hive|"
   ]
  },
  {
   "cell_type": "markdown",
   "id": "139a06b1-fe5d-4274-b97a-c6c0227f8842",
   "metadata": {},
   "source": [
    "### Below are a few examples of evaluating arithmetic expressions in Python"
   ]
  },
  {
   "cell_type": "code",
   "execution_count": 1,
   "id": "88e4d8c8-a933-46e3-a75d-117cad517da3",
   "metadata": {},
   "outputs": [
    {
     "name": "stdout",
     "output_type": "stream",
     "text": [
      "25\n"
     ]
    }
   ],
   "source": [
    "x=10\n",
    "y=15\n",
    "z=x+y\n",
    "result=z\n",
    "print(result)"
   ]
  },
  {
   "cell_type": "code",
   "execution_count": 2,
   "id": "80ec2c71-3158-4b04-a0ac-3f2690c9b4bc",
   "metadata": {},
   "outputs": [
    {
     "data": {
      "text/plain": [
       "2"
      ]
     },
     "execution_count": 2,
     "metadata": {},
     "output_type": "execute_result"
    }
   ],
   "source": [
    "1+1"
   ]
  },
  {
   "cell_type": "code",
   "execution_count": 3,
   "id": "afdeee33-456d-44c7-b0fe-9be98807d413",
   "metadata": {},
   "outputs": [
    {
     "data": {
      "text/plain": [
       "12"
      ]
     },
     "execution_count": 3,
     "metadata": {},
     "output_type": "execute_result"
    }
   ],
   "source": [
    "2*6"
   ]
  },
  {
   "cell_type": "code",
   "execution_count": 8,
   "id": "7248e93a-d70d-495f-86c4-ffd635db6b17",
   "metadata": {},
   "outputs": [
    {
     "data": {
      "text/plain": [
       "26"
      ]
     },
     "execution_count": 8,
     "metadata": {},
     "output_type": "execute_result"
    }
   ],
   "source": [
    "(4*6)+2 #This a simple arithmetic expression to multiply then add integer. "
   ]
  },
  {
   "cell_type": "markdown",
   "id": "c16fb9b1-adb4-44c2-9d78-70b3e1191370",
   "metadata": {},
   "source": [
    "This will convert 200 minutes to hours by diving by 60"
   ]
  },
  {
   "cell_type": "code",
   "execution_count": 11,
   "id": "73d68e7b-a306-4181-9a09-afe7c8c15528",
   "metadata": {},
   "outputs": [
    {
     "data": {
      "text/plain": [
       "3.3333333333333335"
      ]
     },
     "execution_count": 11,
     "metadata": {},
     "output_type": "execute_result"
    }
   ],
   "source": [
    "minutes=200\n",
    "hours=minutes/60\n",
    "hours"
   ]
  },
  {
   "cell_type": "markdown",
   "id": "20ed0cde-8f27-4623-b498-0ab2a2788d0e",
   "metadata": {},
   "source": [
    "### Author\n",
    "Vahe Hakobyan"
   ]
  },
  {
   "cell_type": "code",
   "execution_count": null,
   "id": "b3d89ca2-ee80-421f-a0e3-3cce66af97d4",
   "metadata": {},
   "outputs": [],
   "source": []
  }
 ],
 "metadata": {
  "kernelspec": {
   "display_name": "anaconda-2024.02-py310",
   "language": "python",
   "name": "conda-env-anaconda-2024.02-py310-py"
  },
  "language_info": {
   "codemirror_mode": {
    "name": "ipython",
    "version": 3
   },
   "file_extension": ".py",
   "mimetype": "text/x-python",
   "name": "python",
   "nbconvert_exporter": "python",
   "pygments_lexer": "ipython3",
   "version": "3.10.14"
  }
 },
 "nbformat": 4,
 "nbformat_minor": 5
}
